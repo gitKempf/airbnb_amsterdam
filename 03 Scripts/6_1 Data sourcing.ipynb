{
 "cells": [
  {
   "cell_type": "markdown",
   "id": "44c1018c",
   "metadata": {},
   "source": [
    "# Initial data exports and data quality checks."
   ]
  },
  {
   "cell_type": "code",
   "execution_count": 1,
   "id": "0923cd8e",
   "metadata": {},
   "outputs": [],
   "source": [
    "import pandas as pd\n",
    "\n",
    "data_files_paths = '../02 Data/Original Data/Airbnb Amsterdam/'"
   ]
  },
  {
   "cell_type": "code",
   "execution_count": 2,
   "id": "2c091393",
   "metadata": {},
   "outputs": [
    {
     "name": "stderr",
     "output_type": "stream",
     "text": [
      "/var/folders/1t/82zy_nkj13dg65kz31p835s00000gn/T/ipykernel_45321/278609330.py:7: DtypeWarning: Columns (87) have mixed types. Specify dtype option on import or set low_memory=False.\n",
      "  listings_details = pd.read_csv(data_files_paths + 'listings_details.csv')\n"
     ]
    }
   ],
   "source": [
    "# Import files into pandas DataFrames\n",
    "calendar = pd.read_csv(data_files_paths + 'calendar.csv')\n",
    "listings = pd.read_csv(data_files_paths + 'listings.csv')\n",
    "reviews_details = pd.read_csv(data_files_paths + 'reviews_details.csv')\n",
    "neighbourhoods_geojson = pd.read_json(data_files_paths + 'neighbourhoods.geojson')\n",
    "reviews = pd.read_csv(data_files_paths + 'reviews.csv')\n",
    "listings_details = pd.read_csv(data_files_paths + 'listings_details.csv')\n",
    "neighbourhoods = pd.read_csv(data_files_paths + 'neighbourhoods.csv')\n"
   ]
  },
  {
   "cell_type": "code",
   "execution_count": 3,
   "id": "63ff10aa",
   "metadata": {},
   "outputs": [],
   "source": [
    "# Convert columns from mix type to the best possible data types\n",
    "listings_details = listings_details.convert_dtypes()"
   ]
  },
  {
   "cell_type": "code",
   "execution_count": 4,
   "id": "8ec15437",
   "metadata": {},
   "outputs": [],
   "source": [
    "# DataFrames to check\n",
    "dataframes = {\n",
    "    'calendar': calendar,\n",
    "    'listings': listings,\n",
    "    'reviews_details': reviews_details,\n",
    "    'reviews': reviews,\n",
    "    'listings_details': listings_details,\n",
    "    'neighbourhoods': neighbourhoods\n",
    "}"
   ]
  },
  {
   "cell_type": "code",
   "execution_count": 11,
   "id": "ea2895ba",
   "metadata": {},
   "outputs": [
    {
     "data": {
      "text/plain": [
       "dict_keys(['calendar', 'listings', 'reviews_details', 'reviews', 'listings_details', 'neighbourhoods'])"
      ]
     },
     "execution_count": 11,
     "metadata": {},
     "output_type": "execute_result"
    }
   ],
   "source": [
    "dataframes.keys()"
   ]
  },
  {
   "cell_type": "code",
   "execution_count": 13,
   "id": "999126f6",
   "metadata": {},
   "outputs": [
    {
     "name": "stdout",
     "output_type": "stream",
     "text": [
      "price\n",
      "name\n",
      "host_name\n",
      "last_review\n",
      "comments\n",
      "name\n",
      "summary\n",
      "space\n",
      "description\n",
      "neighborhood_overview\n",
      "notes\n",
      "transit\n",
      "access\n",
      "interaction\n",
      "house_rules\n",
      "host_name\n",
      "host_since\n",
      "host_location\n",
      "host_about\n",
      "host_response_time\n",
      "host_response_rate\n",
      "host_is_superhost\n",
      "host_thumbnail_url\n",
      "host_picture_url\n",
      "host_neighbourhood\n",
      "host_listings_count\n",
      "host_total_listings_count\n",
      "host_has_profile_pic\n",
      "host_identity_verified\n",
      "neighbourhood\n",
      "city\n",
      "state\n",
      "zipcode\n",
      "market\n",
      "bathrooms\n",
      "bedrooms\n",
      "beds\n",
      "square_feet\n",
      "weekly_price\n",
      "monthly_price\n",
      "security_deposit\n",
      "cleaning_fee\n",
      "first_review\n",
      "last_review\n",
      "review_scores_rating\n",
      "review_scores_accuracy\n",
      "review_scores_cleanliness\n",
      "review_scores_checkin\n",
      "review_scores_communication\n",
      "review_scores_location\n",
      "review_scores_value\n",
      "license\n",
      "jurisdiction_names\n",
      "reviews_per_month\n"
     ]
    }
   ],
   "source": [
    "for df in dataframes.values():\n",
    "    for col in df.columns.tolist():\n",
    "          weird = (df[[col]].applymap(type) != df[[col]].iloc[0].apply(type)).any(axis = 1)\n",
    "          if len (df[weird]) > 0:\n",
    "            print (col)"
   ]
  },
  {
   "cell_type": "code",
   "execution_count": 5,
   "id": "0084ee62",
   "metadata": {
    "scrolled": true
   },
   "outputs": [
    {
     "name": "stdout",
     "output_type": "stream",
     "text": [
      "            DataFrame                       Column Name Duplicate Rows in df Missing Values\n",
      "0            calendar                        listing_id                    0              0\n",
      "1            calendar                              date                    0              0\n",
      "2            calendar                         available                    0              0\n",
      "3            calendar                             price                    0        6110879\n",
      "4            listings                                id                    0              0\n",
      "5            listings                              name                    0             38\n",
      "6            listings                           host_id                    0              0\n",
      "7            listings                         host_name                    0              4\n",
      "8            listings               neighbourhood_group                    0          20030\n",
      "9            listings                     neighbourhood                    0              0\n",
      "10           listings                          latitude                    0              0\n",
      "11           listings                         longitude                    0              0\n",
      "12           listings                         room_type                    0              0\n",
      "13           listings                             price                    0              0\n",
      "14           listings                    minimum_nights                    0              0\n",
      "15           listings                 number_of_reviews                    0              0\n",
      "16           listings                       last_review                    0           2406\n",
      "17           listings                 reviews_per_month                    0           2406\n",
      "18           listings    calculated_host_listings_count                    0              0\n",
      "19           listings                  availability_365                    0              0\n",
      "20    reviews_details                        listing_id                    0              0\n",
      "21    reviews_details                                id                    0              0\n",
      "22    reviews_details                              date                    0              0\n",
      "23    reviews_details                       reviewer_id                    0              0\n",
      "24    reviews_details                     reviewer_name                    0              0\n",
      "25    reviews_details                          comments                    0            530\n",
      "26            reviews                        listing_id                 1321              0\n",
      "27            reviews                              date                 1321              0\n",
      "28   listings_details                                id                    0              0\n",
      "29   listings_details                       listing_url                    0              0\n",
      "30   listings_details                         scrape_id                    0              0\n",
      "31   listings_details                      last_scraped                    0              0\n",
      "32   listings_details                              name                    0             38\n",
      "33   listings_details                           summary                    0            520\n",
      "34   listings_details                             space                    0           5451\n",
      "35   listings_details                       description                    0            124\n",
      "36   listings_details               experiences_offered                    0              0\n",
      "37   listings_details             neighborhood_overview                    0           6773\n",
      "38   listings_details                             notes                    0          10999\n",
      "39   listings_details                           transit                    0           6395\n",
      "40   listings_details                            access                    0           7803\n",
      "41   listings_details                       interaction                    0           8056\n",
      "42   listings_details                       house_rules                    0           7459\n",
      "43   listings_details                     thumbnail_url                    0          20030\n",
      "44   listings_details                        medium_url                    0          20030\n",
      "45   listings_details                       picture_url                    0              0\n",
      "46   listings_details                    xl_picture_url                    0          20030\n",
      "47   listings_details                           host_id                    0              0\n",
      "48   listings_details                          host_url                    0              0\n",
      "49   listings_details                         host_name                    0              4\n",
      "50   listings_details                        host_since                    0              4\n",
      "51   listings_details                     host_location                    0             39\n",
      "52   listings_details                        host_about                    0           8227\n",
      "53   listings_details                host_response_time                    0           9483\n",
      "54   listings_details                host_response_rate                    0           9483\n",
      "55   listings_details              host_acceptance_rate                    0          20030\n",
      "56   listings_details                 host_is_superhost                    0              4\n",
      "57   listings_details                host_thumbnail_url                    0              4\n",
      "58   listings_details                  host_picture_url                    0              4\n",
      "59   listings_details                host_neighbourhood                    0           5808\n",
      "60   listings_details               host_listings_count                    0              4\n",
      "61   listings_details         host_total_listings_count                    0              4\n",
      "62   listings_details                host_verifications                    0              0\n",
      "63   listings_details              host_has_profile_pic                    0              4\n",
      "64   listings_details            host_identity_verified                    0              4\n",
      "65   listings_details                            street                    0              0\n",
      "66   listings_details                     neighbourhood                    0           1653\n",
      "67   listings_details            neighbourhood_cleansed                    0              0\n",
      "68   listings_details      neighbourhood_group_cleansed                    0          20030\n",
      "69   listings_details                              city                    0              4\n",
      "70   listings_details                             state                    0            127\n",
      "71   listings_details                           zipcode                    0            866\n",
      "72   listings_details                            market                    0             42\n",
      "73   listings_details                    smart_location                    0              0\n",
      "74   listings_details                      country_code                    0              0\n",
      "75   listings_details                           country                    0              0\n",
      "76   listings_details                          latitude                    0              0\n",
      "77   listings_details                         longitude                    0              0\n",
      "78   listings_details                 is_location_exact                    0              0\n",
      "79   listings_details                     property_type                    0              0\n",
      "80   listings_details                         room_type                    0              0\n",
      "81   listings_details                      accommodates                    0              0\n",
      "82   listings_details                         bathrooms                    0             10\n",
      "83   listings_details                          bedrooms                    0              8\n",
      "84   listings_details                              beds                    0              7\n",
      "85   listings_details                          bed_type                    0              0\n",
      "86   listings_details                         amenities                    0              0\n",
      "87   listings_details                       square_feet                    0          19624\n",
      "88   listings_details                             price                    0              0\n",
      "89   listings_details                      weekly_price                    0          17187\n",
      "90   listings_details                     monthly_price                    0          18469\n",
      "91   listings_details                  security_deposit                    0           6166\n",
      "92   listings_details                      cleaning_fee                    0           3629\n",
      "93   listings_details                   guests_included                    0              0\n",
      "94   listings_details                      extra_people                    0              0\n",
      "95   listings_details                    minimum_nights                    0              0\n",
      "96   listings_details                    maximum_nights                    0              0\n",
      "97   listings_details                  calendar_updated                    0              0\n",
      "98   listings_details                  has_availability                    0              0\n",
      "99   listings_details                   availability_30                    0              0\n",
      "100  listings_details                   availability_60                    0              0\n",
      "101  listings_details                   availability_90                    0              0\n",
      "102  listings_details                  availability_365                    0              0\n",
      "103  listings_details             calendar_last_scraped                    0              0\n",
      "104  listings_details                 number_of_reviews                    0              0\n",
      "105  listings_details                      first_review                    0           2406\n",
      "106  listings_details                       last_review                    0           2406\n",
      "107  listings_details              review_scores_rating                    0           2639\n",
      "108  listings_details            review_scores_accuracy                    0           2649\n",
      "109  listings_details         review_scores_cleanliness                    0           2647\n",
      "110  listings_details             review_scores_checkin                    0           2661\n",
      "111  listings_details       review_scores_communication                    0           2652\n",
      "112  listings_details            review_scores_location                    0           2660\n",
      "113  listings_details               review_scores_value                    0           2659\n",
      "114  listings_details                  requires_license                    0              0\n",
      "115  listings_details                           license                    0          20021\n",
      "116  listings_details                jurisdiction_names                    0            672\n",
      "117  listings_details                  instant_bookable                    0              0\n",
      "118  listings_details          is_business_travel_ready                    0              0\n",
      "119  listings_details               cancellation_policy                    0              0\n",
      "120  listings_details     require_guest_profile_picture                    0              0\n",
      "121  listings_details  require_guest_phone_verification                    0              0\n",
      "122  listings_details    calculated_host_listings_count                    0              0\n",
      "123  listings_details                 reviews_per_month                    0           2406\n",
      "124    neighbourhoods               neighbourhood_group                    0             22\n",
      "125    neighbourhoods                     neighbourhood                    0              0\n"
     ]
    }
   ],
   "source": [
    "# Chacking for duplicates and missing values\n",
    "with pd.option_context('display.max_rows', 500, 'display.max_columns', 100, 'display.width', 1000):\n",
    "    \n",
    "    # Initialize a DataFrame to store the results\n",
    "    quality_checks_df = pd.DataFrame(columns=['DataFrame', 'Column Name', 'Duplicate Rows in df', 'Missing Values'])\n",
    "\n",
    "    # Perform initial data quality checks and store the results\n",
    "    for name, df in dataframes.items():\n",
    "        duplicate_df_rows = df.duplicated().sum()\n",
    "        for column in df.columns:\n",
    "            missing_values = df[column].isnull().sum()\n",
    "\n",
    "            new_row = pd.DataFrame({\n",
    "                'DataFrame': [name],\n",
    "                'Column Name': [column],\n",
    "                'Duplicate Rows in df': [duplicate_df_rows],\n",
    "                'Missing Values': [missing_values]\n",
    "            })\n",
    "\n",
    "            quality_checks_df = pd.concat([quality_checks_df, new_row], ignore_index=True)\n",
    "\n",
    "\n",
    "    # Display the results in a table\n",
    "    print(quality_checks_df)"
   ]
  },
  {
   "cell_type": "markdown",
   "id": "a37f293a",
   "metadata": {},
   "source": [
    "### Observations:\n",
    "\n",
    "Thare is 1321 missing values in reviews dataframe. This is normal. No actions is requierd.\n",
    "\n",
    "A large number of missing values in the various columns will be cleared as needed during the analysis. "
   ]
  },
  {
   "cell_type": "code",
   "execution_count": 7,
   "id": "13c8d5ca",
   "metadata": {},
   "outputs": [
    {
     "data": {
      "application/vnd.jupyter.widget-view+json": {
       "model_id": "49db110a999f40a4acd38414a920ce40",
       "version_major": 2,
       "version_minor": 0
      },
      "text/plain": [
       "Summarize dataset:   0%|          | 0/5 [00:00<?, ?it/s]"
      ]
     },
     "metadata": {},
     "output_type": "display_data"
    },
    {
     "data": {
      "application/vnd.jupyter.widget-view+json": {
       "model_id": "3a300d97c28b43e8b72ba40b0e09b0d5",
       "version_major": 2,
       "version_minor": 0
      },
      "text/plain": [
       "Generate report structure:   0%|          | 0/1 [00:00<?, ?it/s]"
      ]
     },
     "metadata": {},
     "output_type": "display_data"
    },
    {
     "data": {
      "application/vnd.jupyter.widget-view+json": {
       "model_id": "c034b2a7febe4534bf2b5869dd86c075",
       "version_major": 2,
       "version_minor": 0
      },
      "text/plain": [
       "Render HTML:   0%|          | 0/1 [00:00<?, ?it/s]"
      ]
     },
     "metadata": {},
     "output_type": "display_data"
    },
    {
     "data": {
      "application/vnd.jupyter.widget-view+json": {
       "model_id": "9e8d95e0168a4158bcd3f9771d3153c2",
       "version_major": 2,
       "version_minor": 0
      },
      "text/plain": [
       "Export report to file:   0%|          | 0/1 [00:00<?, ?it/s]"
      ]
     },
     "metadata": {},
     "output_type": "display_data"
    },
    {
     "data": {
      "application/vnd.jupyter.widget-view+json": {
       "model_id": "6f8f6c0f25c740d5a8374ccf83bb36cd",
       "version_major": 2,
       "version_minor": 0
      },
      "text/plain": [
       "Summarize dataset:   0%|          | 0/5 [00:00<?, ?it/s]"
      ]
     },
     "metadata": {},
     "output_type": "display_data"
    },
    {
     "data": {
      "application/vnd.jupyter.widget-view+json": {
       "model_id": "a1d0990a5a024af4b0e30b0dd4e2242a",
       "version_major": 2,
       "version_minor": 0
      },
      "text/plain": [
       "Generate report structure:   0%|          | 0/1 [00:00<?, ?it/s]"
      ]
     },
     "metadata": {},
     "output_type": "display_data"
    },
    {
     "data": {
      "application/vnd.jupyter.widget-view+json": {
       "model_id": "58f64a054da7479693b482e26b05bdd1",
       "version_major": 2,
       "version_minor": 0
      },
      "text/plain": [
       "Render HTML:   0%|          | 0/1 [00:00<?, ?it/s]"
      ]
     },
     "metadata": {},
     "output_type": "display_data"
    },
    {
     "data": {
      "application/vnd.jupyter.widget-view+json": {
       "model_id": "20d89017132f4aa39d492c30a5d887c2",
       "version_major": 2,
       "version_minor": 0
      },
      "text/plain": [
       "Export report to file:   0%|          | 0/1 [00:00<?, ?it/s]"
      ]
     },
     "metadata": {},
     "output_type": "display_data"
    },
    {
     "data": {
      "application/vnd.jupyter.widget-view+json": {
       "model_id": "cd5c0b1e1f924e18b70f272a71713230",
       "version_major": 2,
       "version_minor": 0
      },
      "text/plain": [
       "Summarize dataset:   0%|          | 0/5 [00:00<?, ?it/s]"
      ]
     },
     "metadata": {},
     "output_type": "display_data"
    },
    {
     "data": {
      "application/vnd.jupyter.widget-view+json": {
       "model_id": "6589c45f444440b190a38522ce6c0e01",
       "version_major": 2,
       "version_minor": 0
      },
      "text/plain": [
       "Generate report structure:   0%|          | 0/1 [00:00<?, ?it/s]"
      ]
     },
     "metadata": {},
     "output_type": "display_data"
    },
    {
     "data": {
      "application/vnd.jupyter.widget-view+json": {
       "model_id": "dbef69ef6db24702a29f7d4e0acb86bd",
       "version_major": 2,
       "version_minor": 0
      },
      "text/plain": [
       "Render HTML:   0%|          | 0/1 [00:00<?, ?it/s]"
      ]
     },
     "metadata": {},
     "output_type": "display_data"
    },
    {
     "data": {
      "application/vnd.jupyter.widget-view+json": {
       "model_id": "806b69898ea14c7a9a1ff5cad9f54308",
       "version_major": 2,
       "version_minor": 0
      },
      "text/plain": [
       "Export report to file:   0%|          | 0/1 [00:00<?, ?it/s]"
      ]
     },
     "metadata": {},
     "output_type": "display_data"
    },
    {
     "data": {
      "application/vnd.jupyter.widget-view+json": {
       "model_id": "85904f28aff446fb997b7b8f83ec0ed3",
       "version_major": 2,
       "version_minor": 0
      },
      "text/plain": [
       "Summarize dataset:   0%|          | 0/5 [00:00<?, ?it/s]"
      ]
     },
     "metadata": {},
     "output_type": "display_data"
    },
    {
     "data": {
      "application/vnd.jupyter.widget-view+json": {
       "model_id": "0a8d34ff580242d89ef2498ae48c33c1",
       "version_major": 2,
       "version_minor": 0
      },
      "text/plain": [
       "Generate report structure:   0%|          | 0/1 [00:00<?, ?it/s]"
      ]
     },
     "metadata": {},
     "output_type": "display_data"
    },
    {
     "data": {
      "application/vnd.jupyter.widget-view+json": {
       "model_id": "b5fd5c8bb33e4a4a979dab9bae566dd7",
       "version_major": 2,
       "version_minor": 0
      },
      "text/plain": [
       "Render HTML:   0%|          | 0/1 [00:00<?, ?it/s]"
      ]
     },
     "metadata": {},
     "output_type": "display_data"
    },
    {
     "data": {
      "application/vnd.jupyter.widget-view+json": {
       "model_id": "1fafcd464b454fe4858ef3725bc0a81e",
       "version_major": 2,
       "version_minor": 0
      },
      "text/plain": [
       "Export report to file:   0%|          | 0/1 [00:00<?, ?it/s]"
      ]
     },
     "metadata": {},
     "output_type": "display_data"
    },
    {
     "data": {
      "application/vnd.jupyter.widget-view+json": {
       "model_id": "7969e096749b43899b5406b2de732a87",
       "version_major": 2,
       "version_minor": 0
      },
      "text/plain": [
       "Summarize dataset:   0%|          | 0/5 [00:00<?, ?it/s]"
      ]
     },
     "metadata": {},
     "output_type": "display_data"
    },
    {
     "data": {
      "application/vnd.jupyter.widget-view+json": {
       "model_id": "8eb5539305cc401bae3a1e40f6938ddf",
       "version_major": 2,
       "version_minor": 0
      },
      "text/plain": [
       "Generate report structure:   0%|          | 0/1 [00:00<?, ?it/s]"
      ]
     },
     "metadata": {},
     "output_type": "display_data"
    },
    {
     "data": {
      "application/vnd.jupyter.widget-view+json": {
       "model_id": "e573886b24a34c84a352a38e55a2907c",
       "version_major": 2,
       "version_minor": 0
      },
      "text/plain": [
       "Render HTML:   0%|          | 0/1 [00:00<?, ?it/s]"
      ]
     },
     "metadata": {},
     "output_type": "display_data"
    },
    {
     "data": {
      "application/vnd.jupyter.widget-view+json": {
       "model_id": "0344b82b5bf0419690e094ecf4e7b98c",
       "version_major": 2,
       "version_minor": 0
      },
      "text/plain": [
       "Export report to file:   0%|          | 0/1 [00:00<?, ?it/s]"
      ]
     },
     "metadata": {},
     "output_type": "display_data"
    },
    {
     "data": {
      "application/vnd.jupyter.widget-view+json": {
       "model_id": "295b398c5a814bb9b01b17eee9709ab1",
       "version_major": 2,
       "version_minor": 0
      },
      "text/plain": [
       "Summarize dataset:   0%|          | 0/5 [00:00<?, ?it/s]"
      ]
     },
     "metadata": {},
     "output_type": "display_data"
    },
    {
     "data": {
      "application/vnd.jupyter.widget-view+json": {
       "model_id": "dba44ae3c6f746c68ebd0cdb99728418",
       "version_major": 2,
       "version_minor": 0
      },
      "text/plain": [
       "Generate report structure:   0%|          | 0/1 [00:00<?, ?it/s]"
      ]
     },
     "metadata": {},
     "output_type": "display_data"
    },
    {
     "data": {
      "application/vnd.jupyter.widget-view+json": {
       "model_id": "55e5fbdf03c944f4bc082d60bc3858c2",
       "version_major": 2,
       "version_minor": 0
      },
      "text/plain": [
       "Render HTML:   0%|          | 0/1 [00:00<?, ?it/s]"
      ]
     },
     "metadata": {},
     "output_type": "display_data"
    },
    {
     "data": {
      "application/vnd.jupyter.widget-view+json": {
       "model_id": "ca5613dbe67143ff88adb72ed3c9f7e0",
       "version_major": 2,
       "version_minor": 0
      },
      "text/plain": [
       "Export report to file:   0%|          | 0/1 [00:00<?, ?it/s]"
      ]
     },
     "metadata": {},
     "output_type": "display_data"
    }
   ],
   "source": [
    "import ydata_profiling as pp\n",
    "\n",
    "data_profiles_path = '../02 Data/Data profiles/'\n",
    "\n",
    "# Generate data profiles and export them as HTML files\n",
    "for name, df in dataframes.items():\n",
    "    profile = pp.ProfileReport(df, title=f\"{name.capitalize()} Profile Report\")\n",
    "    profile.to_file(f\"{data_profiles_path}{name}_profile_report.html\")"
   ]
  },
  {
   "cell_type": "code",
   "execution_count": null,
   "id": "0b07fd8b",
   "metadata": {},
   "outputs": [],
   "source": []
  }
 ],
 "metadata": {
  "kernelspec": {
   "display_name": "Python 3 (ipykernel)",
   "language": "python",
   "name": "python3"
  },
  "language_info": {
   "codemirror_mode": {
    "name": "ipython",
    "version": 3
   },
   "file_extension": ".py",
   "mimetype": "text/x-python",
   "name": "python",
   "nbconvert_exporter": "python",
   "pygments_lexer": "ipython3",
   "version": "3.9.13"
  }
 },
 "nbformat": 4,
 "nbformat_minor": 5
}
